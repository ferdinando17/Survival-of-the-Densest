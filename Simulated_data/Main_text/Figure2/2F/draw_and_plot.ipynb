{
 "cells": [
  {
   "cell_type": "code",
   "execution_count": 1,
   "metadata": {},
   "outputs": [],
   "source": [
    "from scipy import stats\n",
    "import pandas as pd\n",
    "import numpy as np\n",
    "import matplotlib.pyplot as plt\n",
    "import matplotlib as mpl\n",
    "import pdb\n",
    "import math\n",
    "import matplotlib.pyplot as plt\n",
    "import os\n",
    "%matplotlib inline  \n",
    "\n",
    "from scipy.special import exp10\n",
    "\n",
    "import warnings\n",
    "warnings.simplefilter(\"ignore\", UserWarning)\n"
   ]
  },
  {
   "cell_type": "code",
   "execution_count": 2,
   "metadata": {},
   "outputs": [],
   "source": [
    "M=200000\n",
    "\n",
    "np.random.seed(42)\n",
    "factor=np.random.uniform(2,8,M) #increase in carrying capacity\n",
    "Nss=np.random.uniform(2000,5000,M) #Nss\n",
    "hl=np.random.uniform(2,100,M) #half-life\n",
    "g=np.random.uniform(0.05,0.15,M) #hopping rate gamma\n",
    "L=np.random.uniform(25,35,M)\n",
    "\n",
    "mu=np.log(2)/hl #death rate\n",
    "d=1/(factor) #delta\n",
    "s=factor-1 #Selective advantage for mutants\n",
    "\n",
    "a=np.random.normal(0.2, 0.00004,M) # constant (intercept) in the phenomenological equation\n",
    "\n",
    "experimental=np.random.normal(0.1306, 0.025, M)"
   ]
  },
  {
   "cell_type": "code",
   "execution_count": 3,
   "metadata": {
    "scrolled": true
   },
   "outputs": [
    {
     "data": {
      "image/png": "[encoded data removed]",
      "text/plain": [
       "<Figure size 432x288 with 1 Axes>"
      ]
     },
     "metadata": {
      "needs_background": "light"
     },
     "output_type": "display_data"
    }
   ],
   "source": [
    "plt.ylim([0.0006,20])\n",
    "plt.xlim([-1,56])\n",
    "v=2*L*(1-d)*(mu*g**3)**(0.25)/(Nss**(1/3))+a\n",
    "\n",
    "plt.yscale(\"log\")\n",
    "\n",
    "vFK=L*2*np.sqrt(g*(factor-1)*(np.log(2)-mu))\n",
    "\n",
    "\n",
    "nbins=100\n",
    "log=False\n",
    "boo=True\n",
    "\n",
    "plt.hist(v, density=boo,   log=log,  bins=10, color=\"blue\", alpha=0.6, stacked=boo, label=\"Survival of the densest\"); \n",
    "plt.hist(vFK, density=boo, bins=nbins, log=log, alpha=0.4, color=\"black\", stacked=boo, label=\"Replicative advantage\");\n",
    "plt.hist(experimental, log=log, bins=10,   density=boo,  color=\"crimson\", stacked=boo, label=\"Observed\");\n",
    "\n",
    "\n",
    "plt.legend(loc=\"upper right\",frameon=False)\n",
    "\n",
    "\n",
    "\n",
    "plt.show()\n"
   ]
  },
  {
   "cell_type": "code",
   "execution_count": 4,
   "metadata": {},
   "outputs": [],
   "source": [
    "pd.DataFrame((experimental, v, vFK)).to_csv(\"distributions.csv\")\n"
   ]
  }
 ],
 "metadata": {
  "kernelspec": {
   "display_name": "Python 3 (ipykernel)",
   "language": "python",
   "name": "python3"
  },
  "language_info": {
   "codemirror_mode": {
    "name": "ipython",
    "version": 3
   },
   "file_extension": ".py",
   "mimetype": "text/x-python",
   "name": "python",
   "nbconvert_exporter": "python",
   "pygments_lexer": "ipython3",
   "version": "3.10.4"
  }
 },
 "nbformat": 4,
 "nbformat_minor": 2
}
